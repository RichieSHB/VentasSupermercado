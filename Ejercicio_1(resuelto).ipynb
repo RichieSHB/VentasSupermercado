{
 "cells": [
  {
   "cell_type": "markdown",
   "metadata": {},
   "source": [
    "# Ventas de supermercado"
   ]
  },
  {
   "cell_type": "markdown",
   "metadata": {},
   "source": [
    "Un supermercado con varias sucursales ha estado recopilando datos de sus ventas durante el último año. Sin embargo, debido a problemas con el sistema de captura de datos y la falta de controles de calidad, la base de datos contiene varios errores. La gerencia del supermercado necesita un análisis de estas ventas para tomar decisiones sobre la estrategia de precios, promociones y gestión de inventarios."
   ]
  },
  {
   "cell_type": "markdown",
   "metadata": {},
   "source": [
    "<b>Problema del negocio</b>\n",
    "\n",
    "La gerencia ha notado una disminución en las ventas de algunos productos y un aumento inexplicable en otros. Quieren comprender mejor las tendencias de ventas para optimizar las compras y reducir las pérdidas. Sin embargo, antes de analizar los datos, es necesario limpiar la base de datos para asegurarse de que los análisis sean precisos."
   ]
  },
  {
   "cell_type": "markdown",
   "metadata": {},
   "source": [
    "<b>Tareas</b>\n",
    "\n",
    "1. Limpieza de datos:\n",
    "\n",
    "    - **Corregir valores faltantes:** Completar o eliminar filas con información incompleta.\n",
    "    - **Eliminar duplicados**: Identificar y eliminar registros duplicados.\n",
    "    - **Uniformizar formatos:** Asegurarse de que todos los precios y fechas tengan un formato consistente.\n",
    "    - **Corregir errores tipográficos:** Revisar y corregir los nombres de productos, categorías y métodos de pago.\n",
    "    - **Identificar y tratar valores atípicos:** Revisar precios y cantidades fuera de lo normal.\n"
   ]
  },
  {
   "cell_type": "markdown",
   "metadata": {},
   "source": [
    "2. Análisis de Datos:\n",
    "\n",
    "    - **Identificar tendencias:** Determinar qué productos y categorías han tenido un mejor rendimiento.\n",
    "    - **Análisis por sucursal:** Comparar el desempeño de las diferentes sucursales.\n",
    "    - **Preferencias de pago:** Analizar qué métodos de pago son más utilizados.\n",
    "    - **Análisis temporal:** Examinar cómo varían las ventas a lo largo del tiempo, identificando posibles estacionalidades."
   ]
  },
  {
   "cell_type": "markdown",
   "metadata": {},
   "source": [
    "3. Visualización:\n",
    "\n",
    "    - **Gráficos de ventas por categoría:** Crear gráficos que muestren las ventas por categoría y por sucursal.\n",
    "    - **Tendencias temporales:** Graficar la evolución de las ventas a lo largo del año.\n",
    "    - **Métodos de pago:** Visualizar la distribución de los diferentes métodos de pago utilizados."
   ]
  },
  {
   "cell_type": "markdown",
   "metadata": {},
   "source": [
    "## Solucion"
   ]
  },
  {
   "cell_type": "markdown",
   "metadata": {},
   "source": [
    "1. Limpieza de Datos\n",
    "    - **Corregir valores faltantes:** para corregir los valores faltantes tendremos que borrar los datos con valores nulos ya que al preguntar al encargado no pudo darnos estos valores faltantes\n",
    "        "
   ]
  },
  {
   "cell_type": "code",
   "execution_count": 1,
   "metadata": {},
   "outputs": [],
   "source": [
    "#primero haremos las importaciones necesarias.\n",
    "import pandas as pd\n",
    "import matplotlib.pyplot as plt\n",
    "import seaborn as sns"
   ]
  },
  {
   "cell_type": "code",
   "execution_count": 2,
   "metadata": {},
   "outputs": [
    {
     "data": {
      "text/html": [
       "<div>\n",
       "<style scoped>\n",
       "    .dataframe tbody tr th:only-of-type {\n",
       "        vertical-align: middle;\n",
       "    }\n",
       "\n",
       "    .dataframe tbody tr th {\n",
       "        vertical-align: top;\n",
       "    }\n",
       "\n",
       "    .dataframe thead th {\n",
       "        text-align: right;\n",
       "    }\n",
       "</style>\n",
       "<table border=\"1\" class=\"dataframe\">\n",
       "  <thead>\n",
       "    <tr style=\"text-align: right;\">\n",
       "      <th></th>\n",
       "      <th>Fecha de venta</th>\n",
       "      <th>Producto</th>\n",
       "      <th>Categoría</th>\n",
       "      <th>Precio</th>\n",
       "      <th>Cantidad vendida</th>\n",
       "      <th>Método de pago</th>\n",
       "      <th>Sucursal</th>\n",
       "    </tr>\n",
       "  </thead>\n",
       "  <tbody>\n",
       "    <tr>\n",
       "      <th>0</th>\n",
       "      <td>2023-03-16</td>\n",
       "      <td>NaN</td>\n",
       "      <td>Bebidas</td>\n",
       "      <td>58.49</td>\n",
       "      <td>16.0</td>\n",
       "      <td>Efectivo</td>\n",
       "      <td>Sucursal B</td>\n",
       "    </tr>\n",
       "    <tr>\n",
       "      <th>1</th>\n",
       "      <td>15/11/2023</td>\n",
       "      <td>Café</td>\n",
       "      <td>Carnes</td>\n",
       "      <td>27.90</td>\n",
       "      <td>17.0</td>\n",
       "      <td>Tarjeta de débito</td>\n",
       "      <td>Sucursal A</td>\n",
       "    </tr>\n",
       "    <tr>\n",
       "      <th>2</th>\n",
       "      <td>2023-09-12</td>\n",
       "      <td>Plátanos</td>\n",
       "      <td>Lácteos</td>\n",
       "      <td>40.43</td>\n",
       "      <td>5.0</td>\n",
       "      <td>Tarjeta de débito</td>\n",
       "      <td>NaN</td>\n",
       "    </tr>\n",
       "    <tr>\n",
       "      <th>3</th>\n",
       "      <td>2023-07-17</td>\n",
       "      <td>Café</td>\n",
       "      <td>Lácteos</td>\n",
       "      <td>10.08</td>\n",
       "      <td>4.0</td>\n",
       "      <td>Efectivo</td>\n",
       "      <td>Sucursal C</td>\n",
       "    </tr>\n",
       "    <tr>\n",
       "      <th>4</th>\n",
       "      <td>19/03/2023</td>\n",
       "      <td>Manzanas</td>\n",
       "      <td>Granos</td>\n",
       "      <td>34.30</td>\n",
       "      <td>18.0</td>\n",
       "      <td>Tarjeta de débito</td>\n",
       "      <td>Sucursal C</td>\n",
       "    </tr>\n",
       "  </tbody>\n",
       "</table>\n",
       "</div>"
      ],
      "text/plain": [
       "  Fecha de venta  Producto Categoría  Precio  Cantidad vendida  \\\n",
       "0     2023-03-16       NaN   Bebidas   58.49              16.0   \n",
       "1     15/11/2023      Café    Carnes   27.90              17.0   \n",
       "2     2023-09-12  Plátanos   Lácteos   40.43               5.0   \n",
       "3     2023-07-17      Café   Lácteos   10.08               4.0   \n",
       "4     19/03/2023  Manzanas    Granos   34.30              18.0   \n",
       "\n",
       "      Método de pago    Sucursal  \n",
       "0           Efectivo  Sucursal B  \n",
       "1  Tarjeta de débito  Sucursal A  \n",
       "2  Tarjeta de débito         NaN  \n",
       "3           Efectivo  Sucursal C  \n",
       "4  Tarjeta de débito  Sucursal C  "
      ]
     },
     "execution_count": 2,
     "metadata": {},
     "output_type": "execute_result"
    }
   ],
   "source": [
    "#cargamos el dataset\n",
    "df = pd.read_csv('dataset_ventas_supermercado.csv')\n",
    "\n",
    "#mostramos las primeras 5 filas del dataset\n",
    "df.head()"
   ]
  },
  {
   "cell_type": "code",
   "execution_count": 3,
   "metadata": {},
   "outputs": [
    {
     "name": "stdout",
     "output_type": "stream",
     "text": [
      "(Filas, Columnas)\n",
      "(520, 7)\n"
     ]
    }
   ],
   "source": [
    "# mostramos la cantidad de filas y columnas del dataset\n",
    "print(\"(Filas, Columnas)\")\n",
    "print(df.shape)"
   ]
  },
  {
   "cell_type": "code",
   "execution_count": 4,
   "metadata": {},
   "outputs": [
    {
     "name": "stdout",
     "output_type": "stream",
     "text": [
      "<class 'pandas.core.frame.DataFrame'>\n",
      "RangeIndex: 520 entries, 0 to 519\n",
      "Data columns (total 7 columns):\n",
      " #   Column            Non-Null Count  Dtype  \n",
      "---  ------            --------------  -----  \n",
      " 0   Fecha de venta    494 non-null    object \n",
      " 1   Producto          494 non-null    object \n",
      " 2   Categoría         494 non-null    object \n",
      " 3   Precio            494 non-null    float64\n",
      " 4   Cantidad vendida  494 non-null    float64\n",
      " 5   Método de pago    494 non-null    object \n",
      " 6   Sucursal          494 non-null    object \n",
      "dtypes: float64(2), object(5)\n",
      "memory usage: 28.6+ KB\n"
     ]
    }
   ],
   "source": [
    "# Veamos las variables categóricas y las numéricas\n",
    "df.info()"
   ]
  },
  {
   "cell_type": "code",
   "execution_count": 5,
   "metadata": {},
   "outputs": [
    {
     "data": {
      "text/plain": [
       "Fecha de venta      26\n",
       "Producto            26\n",
       "Categoría           26\n",
       "Precio              26\n",
       "Cantidad vendida    26\n",
       "Método de pago      26\n",
       "Sucursal            26\n",
       "dtype: int64"
      ]
     },
     "execution_count": 5,
     "metadata": {},
     "output_type": "execute_result"
    }
   ],
   "source": [
    "# Veamos la cantidad de valores nulos\n",
    "df.isnull().sum()"
   ]
  },
  {
   "cell_type": "code",
   "execution_count": 6,
   "metadata": {},
   "outputs": [
    {
     "name": "stdout",
     "output_type": "stream",
     "text": [
      "<class 'pandas.core.frame.DataFrame'>\n",
      "Index: 358 entries, 1 to 517\n",
      "Data columns (total 7 columns):\n",
      " #   Column            Non-Null Count  Dtype  \n",
      "---  ------            --------------  -----  \n",
      " 0   Fecha de venta    358 non-null    object \n",
      " 1   Producto          358 non-null    object \n",
      " 2   Categoría         358 non-null    object \n",
      " 3   Precio            358 non-null    float64\n",
      " 4   Cantidad vendida  358 non-null    float64\n",
      " 5   Método de pago    358 non-null    object \n",
      " 6   Sucursal          358 non-null    object \n",
      "dtypes: float64(2), object(5)\n",
      "memory usage: 22.4+ KB\n"
     ]
    }
   ],
   "source": [
    "# en este caso vamos a eliminar las filas que contienen valores nulos, ya que no se cuenta con la informacion suficiente para rellenarlos\n",
    "df = df.dropna()\n",
    "df.info()"
   ]
  },
  {
   "cell_type": "markdown",
   "metadata": {},
   "source": [
    "- **Eliminar duplicados**: Identificar y eliminar registros duplicados."
   ]
  },
  {
   "cell_type": "code",
   "execution_count": 7,
   "metadata": {},
   "outputs": [
    {
     "data": {
      "text/plain": [
       "5"
      ]
     },
     "execution_count": 7,
     "metadata": {},
     "output_type": "execute_result"
    }
   ],
   "source": [
    "# Veamos la cantidad de valores duplicados\n",
    "df.duplicated().sum()"
   ]
  },
  {
   "cell_type": "code",
   "execution_count": 8,
   "metadata": {},
   "outputs": [
    {
     "name": "stdout",
     "output_type": "stream",
     "text": [
      "<class 'pandas.core.frame.DataFrame'>\n",
      "Index: 353 entries, 1 to 515\n",
      "Data columns (total 7 columns):\n",
      " #   Column            Non-Null Count  Dtype  \n",
      "---  ------            --------------  -----  \n",
      " 0   Fecha de venta    353 non-null    object \n",
      " 1   Producto          353 non-null    object \n",
      " 2   Categoría         353 non-null    object \n",
      " 3   Precio            353 non-null    float64\n",
      " 4   Cantidad vendida  353 non-null    float64\n",
      " 5   Método de pago    353 non-null    object \n",
      " 6   Sucursal          353 non-null    object \n",
      "dtypes: float64(2), object(5)\n",
      "memory usage: 22.1+ KB\n"
     ]
    }
   ],
   "source": [
    "# eliminamos los valores duplicados\n",
    "df = df.drop_duplicates()\n",
    "df.info()"
   ]
  },
  {
   "cell_type": "markdown",
   "metadata": {},
   "source": [
    "- **Uniformizar formatos:** Asegurarse de que todos los precios y fechas tengan un formato consistente."
   ]
  },
  {
   "cell_type": "code",
   "execution_count": 9,
   "metadata": {},
   "outputs": [
    {
     "data": {
      "text/plain": [
       "Fecha de venta       object\n",
       "Producto             object\n",
       "Categoría            object\n",
       "Precio              float64\n",
       "Cantidad vendida    float64\n",
       "Método de pago       object\n",
       "Sucursal             object\n",
       "dtype: object"
      ]
     },
     "execution_count": 9,
     "metadata": {},
     "output_type": "execute_result"
    }
   ],
   "source": [
    "# vemos el tipo de datos de cada columna\n",
    "df.dtypes\n"
   ]
  },
  {
   "cell_type": "code",
   "execution_count": 13,
   "metadata": {},
   "outputs": [
    {
     "data": {
      "text/html": [
       "<div>\n",
       "<style scoped>\n",
       "    .dataframe tbody tr th:only-of-type {\n",
       "        vertical-align: middle;\n",
       "    }\n",
       "\n",
       "    .dataframe tbody tr th {\n",
       "        vertical-align: top;\n",
       "    }\n",
       "\n",
       "    .dataframe thead th {\n",
       "        text-align: right;\n",
       "    }\n",
       "</style>\n",
       "<table border=\"1\" class=\"dataframe\">\n",
       "  <thead>\n",
       "    <tr style=\"text-align: right;\">\n",
       "      <th></th>\n",
       "      <th>Fecha de venta</th>\n",
       "      <th>Producto</th>\n",
       "      <th>Categoría</th>\n",
       "      <th>Precio</th>\n",
       "      <th>Cantidad vendida</th>\n",
       "      <th>Método de pago</th>\n",
       "      <th>Sucursal</th>\n",
       "    </tr>\n",
       "  </thead>\n",
       "  <tbody>\n",
       "    <tr>\n",
       "      <th>1</th>\n",
       "      <td>2023-11-15</td>\n",
       "      <td>Café</td>\n",
       "      <td>Carnes</td>\n",
       "      <td>27.90</td>\n",
       "      <td>17.0</td>\n",
       "      <td>Tarjeta de débito</td>\n",
       "      <td>Sucursal A</td>\n",
       "    </tr>\n",
       "    <tr>\n",
       "      <th>3</th>\n",
       "      <td>2023-07-17</td>\n",
       "      <td>Café</td>\n",
       "      <td>Lácteos</td>\n",
       "      <td>10.08</td>\n",
       "      <td>4.0</td>\n",
       "      <td>Efectivo</td>\n",
       "      <td>Sucursal C</td>\n",
       "    </tr>\n",
       "    <tr>\n",
       "      <th>4</th>\n",
       "      <td>2023-03-19</td>\n",
       "      <td>Manzanas</td>\n",
       "      <td>Granos</td>\n",
       "      <td>34.30</td>\n",
       "      <td>18.0</td>\n",
       "      <td>Tarjeta de débito</td>\n",
       "      <td>Sucursal C</td>\n",
       "    </tr>\n",
       "    <tr>\n",
       "      <th>5</th>\n",
       "      <td>2023-02-21</td>\n",
       "      <td>Pollo</td>\n",
       "      <td>Granos</td>\n",
       "      <td>52.73</td>\n",
       "      <td>19.0</td>\n",
       "      <td>Tarjeta de crédito</td>\n",
       "      <td>Sucursal A</td>\n",
       "    </tr>\n",
       "    <tr>\n",
       "      <th>6</th>\n",
       "      <td>2023-05-18</td>\n",
       "      <td>Manzanas</td>\n",
       "      <td>Bebidas</td>\n",
       "      <td>73.49</td>\n",
       "      <td>4.0</td>\n",
       "      <td>PayPal</td>\n",
       "      <td>Sucursal B</td>\n",
       "    </tr>\n",
       "  </tbody>\n",
       "</table>\n",
       "</div>"
      ],
      "text/plain": [
       "  Fecha de venta  Producto Categoría  Precio  Cantidad vendida  \\\n",
       "1     2023-11-15      Café    Carnes   27.90              17.0   \n",
       "3     2023-07-17      Café   Lácteos   10.08               4.0   \n",
       "4     2023-03-19  Manzanas    Granos   34.30              18.0   \n",
       "5     2023-02-21     Pollo    Granos   52.73              19.0   \n",
       "6     2023-05-18  Manzanas   Bebidas   73.49               4.0   \n",
       "\n",
       "       Método de pago    Sucursal  \n",
       "1   Tarjeta de débito  Sucursal A  \n",
       "3            Efectivo  Sucursal C  \n",
       "4   Tarjeta de débito  Sucursal C  \n",
       "5  Tarjeta de crédito  Sucursal A  \n",
       "6              PayPal  Sucursal B  "
      ]
     },
     "execution_count": 13,
     "metadata": {},
     "output_type": "execute_result"
    }
   ],
   "source": [
    "# estandarizamos los formatos de fecha\n",
    "\n",
    "def convertir_fecha(fecha):\n",
    "    for formato in ('%Y/%m/%d', '%Y-%m-%d', '%d/%m/%Y'):\n",
    "        try:\n",
    "            return pd.to_datetime(fecha, format=formato).strftime('%Y-%m-%d')\n",
    "        except ValueError:\n",
    "            continue\n",
    "    return None\n",
    "\n",
    "df['Fecha de venta'] = df['Fecha de venta'].apply(convertir_fecha)\n",
    "\n",
    "#mostramos el dataset\n",
    "df.head()\n"
   ]
  },
  {
   "cell_type": "code",
   "execution_count": 14,
   "metadata": {},
   "outputs": [
    {
     "data": {
      "text/plain": [
       "Fecha de venta      datetime64[ns]\n",
       "Producto                    object\n",
       "Categoría                   object\n",
       "Precio                     float64\n",
       "Cantidad vendida           float64\n",
       "Método de pago              object\n",
       "Sucursal                    object\n",
       "dtype: object"
      ]
     },
     "execution_count": 14,
     "metadata": {},
     "output_type": "execute_result"
    }
   ],
   "source": [
    "#validamos que la columna Fecha de venta sea de tipo fecha\n",
    "df['Fecha de venta'] = pd.to_datetime(df['Fecha de venta'])\n",
    "df.dtypes"
   ]
  },
  {
   "cell_type": "code",
   "execution_count": 15,
   "metadata": {},
   "outputs": [
    {
     "data": {
      "text/plain": [
       "Fecha de venta      datetime64[ns]\n",
       "Producto                    object\n",
       "Categoría                   object\n",
       "Precio                     float64\n",
       "Cantidad vendida           float64\n",
       "Método de pago              object\n",
       "Sucursal                    object\n",
       "dtype: object"
      ]
     },
     "execution_count": 15,
     "metadata": {},
     "output_type": "execute_result"
    }
   ],
   "source": [
    "#validamos que la columna Cantidad sea de tipo numerico\n",
    "df['Cantidad vendida'] = pd.to_numeric(df['Cantidad vendida'], errors='coerce')\n",
    "df.dtypes"
   ]
  },
  {
   "cell_type": "code",
   "execution_count": 16,
   "metadata": {},
   "outputs": [
    {
     "data": {
      "text/plain": [
       "Fecha de venta      datetime64[ns]\n",
       "Producto                    object\n",
       "Categoría                   object\n",
       "Precio                     float64\n",
       "Cantidad vendida           float64\n",
       "Método de pago              object\n",
       "Sucursal                    object\n",
       "dtype: object"
      ]
     },
     "execution_count": 16,
     "metadata": {},
     "output_type": "execute_result"
    }
   ],
   "source": [
    "#validamos que la columna precio tenga el formato correcto\n",
    "df['Precio'] = pd.to_numeric(df['Precio'], errors='coerce')\n",
    "df.dtypes"
   ]
  },
  {
   "cell_type": "markdown",
   "metadata": {},
   "source": [
    "- **Corregir errores tipográficos:** Revisar y corregir los nombres de productos, categorías y métodos de pago."
   ]
  },
  {
   "cell_type": "code",
   "execution_count": 17,
   "metadata": {},
   "outputs": [
    {
     "data": {
      "text/plain": [
       "array(['Café', 'Manzanas', 'Pollo', 'Pasta', 'Huevos', 'Arroz',\n",
       "       'Naranjas', 'Plátanos', 'Leche', 'Pan'], dtype=object)"
      ]
     },
     "execution_count": 17,
     "metadata": {},
     "output_type": "execute_result"
    }
   ],
   "source": [
    "#vemos los valores unicos de la columna Producto\n",
    "df['Producto'].unique()"
   ]
  },
  {
   "cell_type": "code",
   "execution_count": 18,
   "metadata": {},
   "outputs": [
    {
     "data": {
      "text/plain": [
       "array(['Carnes', 'Lácteos', 'Granos', 'Bebidas', 'Frutas'], dtype=object)"
      ]
     },
     "execution_count": 18,
     "metadata": {},
     "output_type": "execute_result"
    }
   ],
   "source": [
    "#vemos los valores unicos de la columna Categoria\n",
    "df['Categoría'].unique()"
   ]
  },
  {
   "cell_type": "code",
   "execution_count": 19,
   "metadata": {},
   "outputs": [
    {
     "data": {
      "text/plain": [
       "array(['Tarjeta de débito', 'Efectivo', 'Tarjeta de crédito', 'PayPal'],\n",
       "      dtype=object)"
      ]
     },
     "execution_count": 19,
     "metadata": {},
     "output_type": "execute_result"
    }
   ],
   "source": [
    "#vemos los valores unicos de la columna Metodos de pago\n",
    "df['Método de pago'].unique()"
   ]
  },
  {
   "cell_type": "markdown",
   "metadata": {},
   "source": [
    "- **Identificar y tratar valores atípicos:** Revisar precios y cantidades fuera de lo normal."
   ]
  },
  {
   "cell_type": "code",
   "execution_count": 20,
   "metadata": {},
   "outputs": [
    {
     "data": {
      "text/html": [
       "<div>\n",
       "<style scoped>\n",
       "    .dataframe tbody tr th:only-of-type {\n",
       "        vertical-align: middle;\n",
       "    }\n",
       "\n",
       "    .dataframe tbody tr th {\n",
       "        vertical-align: top;\n",
       "    }\n",
       "\n",
       "    .dataframe thead th {\n",
       "        text-align: right;\n",
       "    }\n",
       "</style>\n",
       "<table border=\"1\" class=\"dataframe\">\n",
       "  <thead>\n",
       "    <tr style=\"text-align: right;\">\n",
       "      <th></th>\n",
       "      <th>Fecha de venta</th>\n",
       "      <th>Producto</th>\n",
       "      <th>Categoría</th>\n",
       "      <th>Precio</th>\n",
       "      <th>Cantidad vendida</th>\n",
       "      <th>Método de pago</th>\n",
       "      <th>Sucursal</th>\n",
       "    </tr>\n",
       "  </thead>\n",
       "  <tbody>\n",
       "  </tbody>\n",
       "</table>\n",
       "</div>"
      ],
      "text/plain": [
       "Empty DataFrame\n",
       "Columns: [Fecha de venta, Producto, Categoría, Precio, Cantidad vendida, Método de pago, Sucursal]\n",
       "Index: []"
      ]
     },
     "execution_count": 20,
     "metadata": {},
     "output_type": "execute_result"
    }
   ],
   "source": [
    "#revisamos cantidades negativas\n",
    "df[df['Cantidad vendida'] < 0]"
   ]
  },
  {
   "cell_type": "code",
   "execution_count": 21,
   "metadata": {},
   "outputs": [
    {
     "data": {
      "text/html": [
       "<div>\n",
       "<style scoped>\n",
       "    .dataframe tbody tr th:only-of-type {\n",
       "        vertical-align: middle;\n",
       "    }\n",
       "\n",
       "    .dataframe tbody tr th {\n",
       "        vertical-align: top;\n",
       "    }\n",
       "\n",
       "    .dataframe thead th {\n",
       "        text-align: right;\n",
       "    }\n",
       "</style>\n",
       "<table border=\"1\" class=\"dataframe\">\n",
       "  <thead>\n",
       "    <tr style=\"text-align: right;\">\n",
       "      <th></th>\n",
       "      <th>Fecha de venta</th>\n",
       "      <th>Producto</th>\n",
       "      <th>Categoría</th>\n",
       "      <th>Precio</th>\n",
       "      <th>Cantidad vendida</th>\n",
       "      <th>Método de pago</th>\n",
       "      <th>Sucursal</th>\n",
       "    </tr>\n",
       "  </thead>\n",
       "  <tbody>\n",
       "  </tbody>\n",
       "</table>\n",
       "</div>"
      ],
      "text/plain": [
       "Empty DataFrame\n",
       "Columns: [Fecha de venta, Producto, Categoría, Precio, Cantidad vendida, Método de pago, Sucursal]\n",
       "Index: []"
      ]
     },
     "execution_count": 21,
     "metadata": {},
     "output_type": "execute_result"
    }
   ],
   "source": [
    "#revisamos ventas con precio 0\n",
    "df[df['Precio'] <= 0]"
   ]
  },
  {
   "cell_type": "code",
   "execution_count": 22,
   "metadata": {},
   "outputs": [
    {
     "data": {
      "text/html": [
       "<div>\n",
       "<style scoped>\n",
       "    .dataframe tbody tr th:only-of-type {\n",
       "        vertical-align: middle;\n",
       "    }\n",
       "\n",
       "    .dataframe tbody tr th {\n",
       "        vertical-align: top;\n",
       "    }\n",
       "\n",
       "    .dataframe thead th {\n",
       "        text-align: right;\n",
       "    }\n",
       "</style>\n",
       "<table border=\"1\" class=\"dataframe\">\n",
       "  <thead>\n",
       "    <tr style=\"text-align: right;\">\n",
       "      <th></th>\n",
       "      <th>Fecha de venta</th>\n",
       "      <th>Precio</th>\n",
       "      <th>Cantidad vendida</th>\n",
       "    </tr>\n",
       "  </thead>\n",
       "  <tbody>\n",
       "    <tr>\n",
       "      <th>count</th>\n",
       "      <td>353</td>\n",
       "      <td>353.000000</td>\n",
       "      <td>353.000000</td>\n",
       "    </tr>\n",
       "    <tr>\n",
       "      <th>mean</th>\n",
       "      <td>2023-07-02 13:44:01.359773440</td>\n",
       "      <td>50.402238</td>\n",
       "      <td>9.597734</td>\n",
       "    </tr>\n",
       "    <tr>\n",
       "      <th>min</th>\n",
       "      <td>2023-01-01 00:00:00</td>\n",
       "      <td>1.100000</td>\n",
       "      <td>1.000000</td>\n",
       "    </tr>\n",
       "    <tr>\n",
       "      <th>25%</th>\n",
       "      <td>2023-04-09 00:00:00</td>\n",
       "      <td>25.510000</td>\n",
       "      <td>5.000000</td>\n",
       "    </tr>\n",
       "    <tr>\n",
       "      <th>50%</th>\n",
       "      <td>2023-07-03 00:00:00</td>\n",
       "      <td>52.650000</td>\n",
       "      <td>9.000000</td>\n",
       "    </tr>\n",
       "    <tr>\n",
       "      <th>75%</th>\n",
       "      <td>2023-09-25 00:00:00</td>\n",
       "      <td>74.940000</td>\n",
       "      <td>14.000000</td>\n",
       "    </tr>\n",
       "    <tr>\n",
       "      <th>max</th>\n",
       "      <td>2023-12-31 00:00:00</td>\n",
       "      <td>99.340000</td>\n",
       "      <td>19.000000</td>\n",
       "    </tr>\n",
       "    <tr>\n",
       "      <th>std</th>\n",
       "      <td>NaN</td>\n",
       "      <td>28.425441</td>\n",
       "      <td>5.539855</td>\n",
       "    </tr>\n",
       "  </tbody>\n",
       "</table>\n",
       "</div>"
      ],
      "text/plain": [
       "                      Fecha de venta      Precio  Cantidad vendida\n",
       "count                            353  353.000000        353.000000\n",
       "mean   2023-07-02 13:44:01.359773440   50.402238          9.597734\n",
       "min              2023-01-01 00:00:00    1.100000          1.000000\n",
       "25%              2023-04-09 00:00:00   25.510000          5.000000\n",
       "50%              2023-07-03 00:00:00   52.650000          9.000000\n",
       "75%              2023-09-25 00:00:00   74.940000         14.000000\n",
       "max              2023-12-31 00:00:00   99.340000         19.000000\n",
       "std                              NaN   28.425441          5.539855"
      ]
     },
     "execution_count": 22,
     "metadata": {},
     "output_type": "execute_result"
    }
   ],
   "source": [
    "#revisamos valores \n",
    "df.describe()"
   ]
  },
  {
   "cell_type": "markdown",
   "metadata": {},
   "source": [
    "al tener en la desviacion estandar valores diferentes a 0 significa que no tienen un valor unico."
   ]
  },
  {
   "cell_type": "markdown",
   "metadata": {},
   "source": [
    "vemos el valor minimo de 1.1 y maximo de 99.34 en precio asi que tenemos que revisarlos"
   ]
  },
  {
   "cell_type": "code",
   "execution_count": 23,
   "metadata": {},
   "outputs": [
    {
     "data": {
      "text/plain": [
       "<Axes: xlabel='Categoría', ylabel='Precio'>"
      ]
     },
     "execution_count": 23,
     "metadata": {},
     "output_type": "execute_result"
    },
    {
     "data": {
      "image/png": "[encoded data removed]",
      "text/plain": [
       "<Figure size 640x480 with 1 Axes>"
      ]
     },
     "metadata": {},
     "output_type": "display_data"
    }
   ],
   "source": [
    "#mostramos los precios de los productos por categoria\n",
    "sns.boxplot(x='Categoría', y='Precio', data=df)"
   ]
  },
  {
   "cell_type": "markdown",
   "metadata": {},
   "source": [
    "al ver la grafica de cajas podemos observar que no hay valores atipicos en ninguna de las categorias "
   ]
  },
  {
   "cell_type": "code",
   "execution_count": 24,
   "metadata": {},
   "outputs": [
    {
     "data": {
      "text/plain": [
       "Categoría  Producto\n",
       "Bebidas    Arroz        5\n",
       "           Café        10\n",
       "           Huevos       8\n",
       "           Leche        2\n",
       "           Manzanas     4\n",
       "           Naranjas    10\n",
       "           Pan          8\n",
       "           Pasta       12\n",
       "           Plátanos     7\n",
       "           Pollo        9\n",
       "Carnes     Arroz        5\n",
       "           Café        10\n",
       "           Huevos       4\n",
       "           Leche        7\n",
       "           Manzanas    11\n",
       "           Naranjas     4\n",
       "           Pan          4\n",
       "           Pasta        3\n",
       "           Plátanos     8\n",
       "           Pollo        6\n",
       "Frutas     Arroz       11\n",
       "           Café         7\n",
       "           Huevos       8\n",
       "           Leche        6\n",
       "           Manzanas     8\n",
       "           Naranjas     7\n",
       "           Pan         10\n",
       "           Pasta        3\n",
       "           Plátanos     6\n",
       "           Pollo        6\n",
       "Granos     Arroz        5\n",
       "           Café        10\n",
       "           Huevos       7\n",
       "           Leche        6\n",
       "           Manzanas    10\n",
       "           Naranjas    13\n",
       "           Pan          8\n",
       "           Pasta        6\n",
       "           Plátanos     6\n",
       "           Pollo        4\n",
       "Lácteos    Arroz        5\n",
       "           Café        10\n",
       "           Huevos       7\n",
       "           Leche        8\n",
       "           Manzanas     5\n",
       "           Naranjas     4\n",
       "           Pan         10\n",
       "           Pasta       10\n",
       "           Plátanos     4\n",
       "           Pollo        6\n",
       "dtype: int64"
      ]
     },
     "execution_count": 24,
     "metadata": {},
     "output_type": "execute_result"
    }
   ],
   "source": [
    "#mostramos todos los valores de las columnas categoria  y producto\n",
    "df.groupby(['Categoría', 'Producto']).size()\n"
   ]
  },
  {
   "cell_type": "markdown",
   "metadata": {},
   "source": [
    "al ver desplegada la informacion de productos por categoria vemos que hay productos en categorias erroneas"
   ]
  },
  {
   "cell_type": "code",
   "execution_count": 25,
   "metadata": {},
   "outputs": [
    {
     "data": {
      "text/plain": [
       "Producto\n",
       "Café        47\n",
       "Pan         40\n",
       "Manzanas    38\n",
       "Naranjas    38\n",
       "Pasta       34\n",
       "Huevos      34\n",
       "Pollo       31\n",
       "Arroz       31\n",
       "Plátanos    31\n",
       "Leche       29\n",
       "Name: count, dtype: int64"
      ]
     },
     "execution_count": 25,
     "metadata": {},
     "output_type": "execute_result"
    }
   ],
   "source": [
    "#mostramos los productos\n",
    "df['Producto'].value_counts()\n"
   ]
  },
  {
   "cell_type": "code",
   "execution_count": 26,
   "metadata": {},
   "outputs": [
    {
     "data": {
      "text/plain": [
       "Categoría\n",
       "Granos     75\n",
       "Bebidas    75\n",
       "Frutas     72\n",
       "Lácteos    69\n",
       "Carnes     62\n",
       "Name: count, dtype: int64"
      ]
     },
     "execution_count": 26,
     "metadata": {},
     "output_type": "execute_result"
    }
   ],
   "source": [
    "#mosytamos las categorias\n",
    "df['Categoría'].value_counts()"
   ]
  },
  {
   "cell_type": "code",
   "execution_count": 27,
   "metadata": {},
   "outputs": [
    {
     "data": {
      "text/html": [
       "<div>\n",
       "<style scoped>\n",
       "    .dataframe tbody tr th:only-of-type {\n",
       "        vertical-align: middle;\n",
       "    }\n",
       "\n",
       "    .dataframe tbody tr th {\n",
       "        vertical-align: top;\n",
       "    }\n",
       "\n",
       "    .dataframe thead th {\n",
       "        text-align: right;\n",
       "    }\n",
       "</style>\n",
       "<table border=\"1\" class=\"dataframe\">\n",
       "  <thead>\n",
       "    <tr style=\"text-align: right;\">\n",
       "      <th></th>\n",
       "      <th>Fecha de venta</th>\n",
       "      <th>Producto</th>\n",
       "      <th>Categoría</th>\n",
       "      <th>Precio</th>\n",
       "      <th>Cantidad vendida</th>\n",
       "      <th>Método de pago</th>\n",
       "      <th>Sucursal</th>\n",
       "      <th>Categoria Corregida</th>\n",
       "    </tr>\n",
       "  </thead>\n",
       "  <tbody>\n",
       "    <tr>\n",
       "      <th>1</th>\n",
       "      <td>2023-11-15</td>\n",
       "      <td>Café</td>\n",
       "      <td>Carnes</td>\n",
       "      <td>27.90</td>\n",
       "      <td>17.0</td>\n",
       "      <td>Tarjeta de débito</td>\n",
       "      <td>Sucursal A</td>\n",
       "      <td>Bebidas</td>\n",
       "    </tr>\n",
       "    <tr>\n",
       "      <th>3</th>\n",
       "      <td>2023-07-17</td>\n",
       "      <td>Café</td>\n",
       "      <td>Lácteos</td>\n",
       "      <td>10.08</td>\n",
       "      <td>4.0</td>\n",
       "      <td>Efectivo</td>\n",
       "      <td>Sucursal C</td>\n",
       "      <td>Bebidas</td>\n",
       "    </tr>\n",
       "    <tr>\n",
       "      <th>4</th>\n",
       "      <td>2023-03-19</td>\n",
       "      <td>Manzanas</td>\n",
       "      <td>Granos</td>\n",
       "      <td>34.30</td>\n",
       "      <td>18.0</td>\n",
       "      <td>Tarjeta de débito</td>\n",
       "      <td>Sucursal C</td>\n",
       "      <td>Frutas</td>\n",
       "    </tr>\n",
       "    <tr>\n",
       "      <th>5</th>\n",
       "      <td>2023-02-21</td>\n",
       "      <td>Pollo</td>\n",
       "      <td>Granos</td>\n",
       "      <td>52.73</td>\n",
       "      <td>19.0</td>\n",
       "      <td>Tarjeta de crédito</td>\n",
       "      <td>Sucursal A</td>\n",
       "      <td>Carnes</td>\n",
       "    </tr>\n",
       "    <tr>\n",
       "      <th>6</th>\n",
       "      <td>2023-05-18</td>\n",
       "      <td>Manzanas</td>\n",
       "      <td>Bebidas</td>\n",
       "      <td>73.49</td>\n",
       "      <td>4.0</td>\n",
       "      <td>PayPal</td>\n",
       "      <td>Sucursal B</td>\n",
       "      <td>Frutas</td>\n",
       "    </tr>\n",
       "  </tbody>\n",
       "</table>\n",
       "</div>"
      ],
      "text/plain": [
       "  Fecha de venta  Producto Categoría  Precio  Cantidad vendida  \\\n",
       "1     2023-11-15      Café    Carnes   27.90              17.0   \n",
       "3     2023-07-17      Café   Lácteos   10.08               4.0   \n",
       "4     2023-03-19  Manzanas    Granos   34.30              18.0   \n",
       "5     2023-02-21     Pollo    Granos   52.73              19.0   \n",
       "6     2023-05-18  Manzanas   Bebidas   73.49               4.0   \n",
       "\n",
       "       Método de pago    Sucursal Categoria Corregida  \n",
       "1   Tarjeta de débito  Sucursal A             Bebidas  \n",
       "3            Efectivo  Sucursal C             Bebidas  \n",
       "4   Tarjeta de débito  Sucursal C              Frutas  \n",
       "5  Tarjeta de crédito  Sucursal A              Carnes  \n",
       "6              PayPal  Sucursal B              Frutas  "
      ]
     },
     "execution_count": 27,
     "metadata": {},
     "output_type": "execute_result"
    }
   ],
   "source": [
    "#hacemos un diccionario de mapeo para las categorias\n",
    "categorias = {\n",
    "    'Granos': ['Arroz','Pan','Pasta'],\n",
    "    'Lácteos': ['Leche'],\n",
    "    'Carnes': ['Pollo','Huevos'],\n",
    "    'Frutas': ['Manzanas','Plátanos','Naranjas'],\n",
    "    'Bebidas': ['Café'],\n",
    "}\n",
    "\n",
    "#creamos una nueva columna con las categorias\n",
    "df['Categoria Corregida'] = df['Producto'].apply(lambda x: next((k for k, v in categorias.items() if x in v), None))\n",
    "\n",
    "#mostramos el dataset\n",
    "df.head()\n",
    "\n"
   ]
  },
  {
   "cell_type": "code",
   "execution_count": 28,
   "metadata": {},
   "outputs": [
    {
     "data": {
      "text/plain": [
       "Categoria Corregida  Producto\n",
       "Bebidas              Café        47\n",
       "Carnes               Huevos      34\n",
       "                     Pollo       31\n",
       "Frutas               Manzanas    38\n",
       "                     Naranjas    38\n",
       "                     Plátanos    31\n",
       "Granos               Arroz       31\n",
       "                     Pan         40\n",
       "                     Pasta       34\n",
       "Lácteos              Leche       29\n",
       "dtype: int64"
      ]
     },
     "execution_count": 28,
     "metadata": {},
     "output_type": "execute_result"
    }
   ],
   "source": [
    "#mostramos todos los valores de las columnas categoria  y producto para ver si se corrigieron\n",
    "df.groupby(['Categoria Corregida', 'Producto']).size()\n"
   ]
  },
  {
   "cell_type": "code",
   "execution_count": 29,
   "metadata": {},
   "outputs": [
    {
     "data": {
      "text/html": [
       "<div>\n",
       "<style scoped>\n",
       "    .dataframe tbody tr th:only-of-type {\n",
       "        vertical-align: middle;\n",
       "    }\n",
       "\n",
       "    .dataframe tbody tr th {\n",
       "        vertical-align: top;\n",
       "    }\n",
       "\n",
       "    .dataframe thead th {\n",
       "        text-align: right;\n",
       "    }\n",
       "</style>\n",
       "<table border=\"1\" class=\"dataframe\">\n",
       "  <thead>\n",
       "    <tr style=\"text-align: right;\">\n",
       "      <th></th>\n",
       "      <th>Fecha de venta</th>\n",
       "      <th>Producto</th>\n",
       "      <th>Categoría</th>\n",
       "      <th>Precio</th>\n",
       "      <th>Cantidad vendida</th>\n",
       "      <th>Método de pago</th>\n",
       "      <th>Sucursal</th>\n",
       "      <th>Categoria Corregida</th>\n",
       "      <th>Total</th>\n",
       "    </tr>\n",
       "  </thead>\n",
       "  <tbody>\n",
       "    <tr>\n",
       "      <th>1</th>\n",
       "      <td>2023-11-15</td>\n",
       "      <td>Café</td>\n",
       "      <td>Carnes</td>\n",
       "      <td>27.90</td>\n",
       "      <td>17.0</td>\n",
       "      <td>Tarjeta de débito</td>\n",
       "      <td>Sucursal A</td>\n",
       "      <td>Bebidas</td>\n",
       "      <td>474.30</td>\n",
       "    </tr>\n",
       "    <tr>\n",
       "      <th>3</th>\n",
       "      <td>2023-07-17</td>\n",
       "      <td>Café</td>\n",
       "      <td>Lácteos</td>\n",
       "      <td>10.08</td>\n",
       "      <td>4.0</td>\n",
       "      <td>Efectivo</td>\n",
       "      <td>Sucursal C</td>\n",
       "      <td>Bebidas</td>\n",
       "      <td>40.32</td>\n",
       "    </tr>\n",
       "    <tr>\n",
       "      <th>4</th>\n",
       "      <td>2023-03-19</td>\n",
       "      <td>Manzanas</td>\n",
       "      <td>Granos</td>\n",
       "      <td>34.30</td>\n",
       "      <td>18.0</td>\n",
       "      <td>Tarjeta de débito</td>\n",
       "      <td>Sucursal C</td>\n",
       "      <td>Frutas</td>\n",
       "      <td>617.40</td>\n",
       "    </tr>\n",
       "    <tr>\n",
       "      <th>5</th>\n",
       "      <td>2023-02-21</td>\n",
       "      <td>Pollo</td>\n",
       "      <td>Granos</td>\n",
       "      <td>52.73</td>\n",
       "      <td>19.0</td>\n",
       "      <td>Tarjeta de crédito</td>\n",
       "      <td>Sucursal A</td>\n",
       "      <td>Carnes</td>\n",
       "      <td>1001.87</td>\n",
       "    </tr>\n",
       "    <tr>\n",
       "      <th>6</th>\n",
       "      <td>2023-05-18</td>\n",
       "      <td>Manzanas</td>\n",
       "      <td>Bebidas</td>\n",
       "      <td>73.49</td>\n",
       "      <td>4.0</td>\n",
       "      <td>PayPal</td>\n",
       "      <td>Sucursal B</td>\n",
       "      <td>Frutas</td>\n",
       "      <td>293.96</td>\n",
       "    </tr>\n",
       "  </tbody>\n",
       "</table>\n",
       "</div>"
      ],
      "text/plain": [
       "  Fecha de venta  Producto Categoría  Precio  Cantidad vendida  \\\n",
       "1     2023-11-15      Café    Carnes   27.90              17.0   \n",
       "3     2023-07-17      Café   Lácteos   10.08               4.0   \n",
       "4     2023-03-19  Manzanas    Granos   34.30              18.0   \n",
       "5     2023-02-21     Pollo    Granos   52.73              19.0   \n",
       "6     2023-05-18  Manzanas   Bebidas   73.49               4.0   \n",
       "\n",
       "       Método de pago    Sucursal Categoria Corregida    Total  \n",
       "1   Tarjeta de débito  Sucursal A             Bebidas   474.30  \n",
       "3            Efectivo  Sucursal C             Bebidas    40.32  \n",
       "4   Tarjeta de débito  Sucursal C              Frutas   617.40  \n",
       "5  Tarjeta de crédito  Sucursal A              Carnes  1001.87  \n",
       "6              PayPal  Sucursal B              Frutas   293.96  "
      ]
     },
     "execution_count": 29,
     "metadata": {},
     "output_type": "execute_result"
    }
   ],
   "source": [
    "#creamos una columna con el total de la venta\n",
    "df['Total'] = df['Cantidad vendida'] * df['Precio']\n",
    "df.head()"
   ]
  },
  {
   "cell_type": "code",
   "execution_count": 30,
   "metadata": {},
   "outputs": [
    {
     "data": {
      "text/html": [
       "<div>\n",
       "<style scoped>\n",
       "    .dataframe tbody tr th:only-of-type {\n",
       "        vertical-align: middle;\n",
       "    }\n",
       "\n",
       "    .dataframe tbody tr th {\n",
       "        vertical-align: top;\n",
       "    }\n",
       "\n",
       "    .dataframe thead th {\n",
       "        text-align: right;\n",
       "    }\n",
       "</style>\n",
       "<table border=\"1\" class=\"dataframe\">\n",
       "  <thead>\n",
       "    <tr style=\"text-align: right;\">\n",
       "      <th></th>\n",
       "      <th>Fecha de venta</th>\n",
       "      <th>Producto</th>\n",
       "      <th>Categoría</th>\n",
       "      <th>Precio</th>\n",
       "      <th>Cantidad vendida</th>\n",
       "      <th>Método de pago</th>\n",
       "      <th>Sucursal</th>\n",
       "      <th>Total</th>\n",
       "    </tr>\n",
       "  </thead>\n",
       "  <tbody>\n",
       "    <tr>\n",
       "      <th>1</th>\n",
       "      <td>2023-11-15</td>\n",
       "      <td>Café</td>\n",
       "      <td>Bebidas</td>\n",
       "      <td>27.90</td>\n",
       "      <td>17.0</td>\n",
       "      <td>Tarjeta de débito</td>\n",
       "      <td>Sucursal A</td>\n",
       "      <td>474.30</td>\n",
       "    </tr>\n",
       "    <tr>\n",
       "      <th>3</th>\n",
       "      <td>2023-07-17</td>\n",
       "      <td>Café</td>\n",
       "      <td>Bebidas</td>\n",
       "      <td>10.08</td>\n",
       "      <td>4.0</td>\n",
       "      <td>Efectivo</td>\n",
       "      <td>Sucursal C</td>\n",
       "      <td>40.32</td>\n",
       "    </tr>\n",
       "    <tr>\n",
       "      <th>4</th>\n",
       "      <td>2023-03-19</td>\n",
       "      <td>Manzanas</td>\n",
       "      <td>Frutas</td>\n",
       "      <td>34.30</td>\n",
       "      <td>18.0</td>\n",
       "      <td>Tarjeta de débito</td>\n",
       "      <td>Sucursal C</td>\n",
       "      <td>617.40</td>\n",
       "    </tr>\n",
       "    <tr>\n",
       "      <th>5</th>\n",
       "      <td>2023-02-21</td>\n",
       "      <td>Pollo</td>\n",
       "      <td>Carnes</td>\n",
       "      <td>52.73</td>\n",
       "      <td>19.0</td>\n",
       "      <td>Tarjeta de crédito</td>\n",
       "      <td>Sucursal A</td>\n",
       "      <td>1001.87</td>\n",
       "    </tr>\n",
       "    <tr>\n",
       "      <th>6</th>\n",
       "      <td>2023-05-18</td>\n",
       "      <td>Manzanas</td>\n",
       "      <td>Frutas</td>\n",
       "      <td>73.49</td>\n",
       "      <td>4.0</td>\n",
       "      <td>PayPal</td>\n",
       "      <td>Sucursal B</td>\n",
       "      <td>293.96</td>\n",
       "    </tr>\n",
       "  </tbody>\n",
       "</table>\n",
       "</div>"
      ],
      "text/plain": [
       "  Fecha de venta  Producto Categoría  Precio  Cantidad vendida  \\\n",
       "1     2023-11-15      Café   Bebidas   27.90              17.0   \n",
       "3     2023-07-17      Café   Bebidas   10.08               4.0   \n",
       "4     2023-03-19  Manzanas    Frutas   34.30              18.0   \n",
       "5     2023-02-21     Pollo    Carnes   52.73              19.0   \n",
       "6     2023-05-18  Manzanas    Frutas   73.49               4.0   \n",
       "\n",
       "       Método de pago    Sucursal    Total  \n",
       "1   Tarjeta de débito  Sucursal A   474.30  \n",
       "3            Efectivo  Sucursal C    40.32  \n",
       "4   Tarjeta de débito  Sucursal C   617.40  \n",
       "5  Tarjeta de crédito  Sucursal A  1001.87  \n",
       "6              PayPal  Sucursal B   293.96  "
      ]
     },
     "execution_count": 30,
     "metadata": {},
     "output_type": "execute_result"
    }
   ],
   "source": [
    "#igualamos categoria corregida a categoria\n",
    "df['Categoría'] = df['Categoria Corregida']\n",
    "df = df.drop(columns=['Categoria Corregida'])\n",
    "df.head()"
   ]
  },
  {
   "cell_type": "code",
   "execution_count": 31,
   "metadata": {},
   "outputs": [],
   "source": [
    "#guardamos el dataset limpio\n",
    "df.to_csv('dataset_ventas_supermercado_limpio.csv', index=False)"
   ]
  },
  {
   "cell_type": "markdown",
   "metadata": {},
   "source": [
    "2. Análisis de Datos:\n",
    "\n",
    "    - **Identificar tendencias:** Determinar qué productos y categorías han tenido un mejor rendimiento."
   ]
  },
  {
   "cell_type": "code",
   "execution_count": 35,
   "metadata": {},
   "outputs": [
    {
     "data": {
      "text/plain": [
       "Categoría  Producto\n",
       "Bebidas    Café        23233.69\n",
       "Granos     Pasta       21457.66\n",
       "           Pan         20244.05\n",
       "Carnes     Huevos      16724.17\n",
       "Frutas     Naranjas    16654.81\n",
       "           Manzanas    16331.28\n",
       "Lácteos    Leche       16238.84\n",
       "Carnes     Pollo       14398.71\n",
       "Granos     Arroz       14239.53\n",
       "Frutas     Plátanos    13198.32\n",
       "Name: Total, dtype: float64"
      ]
     },
     "execution_count": 35,
     "metadata": {},
     "output_type": "execute_result"
    }
   ],
   "source": [
    "#mostrar que productos y categorias han tenido un mejor rendimiento\n",
    "df.groupby(['Categoría', 'Producto'])['Total'].sum().sort_values(ascending=False)"
   ]
  },
  {
   "cell_type": "code",
   "execution_count": 33,
   "metadata": {},
   "outputs": [
    {
     "data": {
      "text/plain": [
       "<Axes: xlabel='Categoría,Producto'>"
      ]
     },
     "execution_count": 33,
     "metadata": {},
     "output_type": "execute_result"
    },
    {
     "data": {
      "image/png": "[encoded data removed]",
      "text/plain": [
       "<Figure size 640x480 with 1 Axes>"
      ]
     },
     "metadata": {},
     "output_type": "display_data"
    }
   ],
   "source": [
    "#grafiocamos los productos con mejor rendimiento\n",
    "df.groupby(['Categoría', 'Producto'])['Total'].sum().sort_values(ascending=False).plot(kind='bar')"
   ]
  },
  {
   "cell_type": "code",
   "execution_count": 36,
   "metadata": {},
   "outputs": [
    {
     "data": {
      "text/plain": [
       "<Axes: xlabel='Categoría'>"
      ]
     },
     "execution_count": 36,
     "metadata": {},
     "output_type": "execute_result"
    },
    {
     "data": {
      "image/png": "[encoded data removed]",
      "text/plain": [
       "<Figure size 640x480 with 1 Axes>"
      ]
     },
     "metadata": {},
     "output_type": "display_data"
    }
   ],
   "source": [
    "#mostramnos las categorias con mejor rendimiento\n",
    "df.groupby(['Categoría'])['Total'].sum().sort_values(ascending=False).plot(kind='bar')"
   ]
  },
  {
   "cell_type": "markdown",
   "metadata": {},
   "source": [
    "Despues de estas dos graficas podemos ver que los productos con mayor rendimiento son `Café`, `Pasta` y `Pan` y las categorias con mayor rendimiento son `Granos`, `Frutas` y `Carnes`"
   ]
  },
  {
   "cell_type": "markdown",
   "metadata": {},
   "source": [
    "- **Análisis por sucursal:** Comparar el desempeño de las diferentes sucursales."
   ]
  },
  {
   "cell_type": "code",
   "execution_count": 37,
   "metadata": {},
   "outputs": [
    {
     "data": {
      "text/plain": [
       "<Axes: xlabel='Sucursal'>"
      ]
     },
     "execution_count": 37,
     "metadata": {},
     "output_type": "execute_result"
    },
    {
     "data": {
      "image/png": "[encoded data removed]",
      "text/plain": [
       "<Figure size 640x480 with 1 Axes>"
      ]
     },
     "metadata": {},
     "output_type": "display_data"
    }
   ],
   "source": [
    "#comparamos el desempeño de las sucursales\n",
    "df.groupby(['Sucursal'])['Total'].sum().sort_values(ascending=False).plot(kind='bar')"
   ]
  },
  {
   "cell_type": "markdown",
   "metadata": {},
   "source": [
    "La grafica anterior nos muestra que la sucursal con mayor desempeño es la `A`"
   ]
  },
  {
   "cell_type": "markdown",
   "metadata": {},
   "source": [
    "- **Preferencias de pago:** Analizar qué métodos de pago son más utilizados."
   ]
  },
  {
   "cell_type": "code",
   "execution_count": 38,
   "metadata": {},
   "outputs": [
    {
     "data": {
      "text/plain": [
       "<Axes: xlabel='Método de pago'>"
      ]
     },
     "execution_count": 38,
     "metadata": {},
     "output_type": "execute_result"
    },
    {
     "data": {
      "image/png": "[encoded data removed]",
      "text/plain": [
       "<Figure size 640x480 with 1 Axes>"
      ]
     },
     "metadata": {},
     "output_type": "display_data"
    }
   ],
   "source": [
    "#mostramos las ventas por metodo de pago\n",
    "df.groupby(['Método de pago'])['Total'].sum().sort_values(ascending=False).plot(kind='bar')"
   ]
  },
  {
   "cell_type": "code",
   "execution_count": 39,
   "metadata": {},
   "outputs": [
    {
     "data": {
      "text/plain": [
       "172721.06"
      ]
     },
     "execution_count": 39,
     "metadata": {},
     "output_type": "execute_result"
    }
   ],
   "source": [
    "#contamos el total de ventas\n",
    "\n",
    "df['Total'].sum()\n"
   ]
  },
  {
   "cell_type": "markdown",
   "metadata": {},
   "source": [
    "la grafica nos muestra que los metodos de pago mas utilizados son `PayPal` y `Efectivo`"
   ]
  },
  {
   "cell_type": "markdown",
   "metadata": {},
   "source": [
    " - **Análisis temporal:** Examinar cómo varían las ventas a lo largo del tiempo, identificando posibles estacionalidades."
   ]
  },
  {
   "cell_type": "code",
   "execution_count": 40,
   "metadata": {},
   "outputs": [
    {
     "data": {
      "text/plain": [
       "<Axes: xlabel='Mes'>"
      ]
     },
     "execution_count": 40,
     "metadata": {},
     "output_type": "execute_result"
    },
    {
     "data": {
      "image/png": "[encoded data removed]",
      "text/plain": [
       "<Figure size 640x480 with 1 Axes>"
      ]
     },
     "metadata": {},
     "output_type": "display_data"
    }
   ],
   "source": [
    "#mostramnos las ventas por mes\n",
    "df['Mes'] = df['Fecha de venta'].dt.month\n",
    "df.groupby(['Mes'])['Total'].sum().plot(kind='bar')\n"
   ]
  },
  {
   "cell_type": "markdown",
   "metadata": {},
   "source": [
    "podemos ver que los mese con mayor venta fueron `Julio` y `Marzo`"
   ]
  },
  {
   "cell_type": "markdown",
   "metadata": {},
   "source": [
    "mientras que el periodo con mas ventas fue `Febrero - Mayo`"
   ]
  },
  {
   "cell_type": "code",
   "execution_count": 41,
   "metadata": {},
   "outputs": [
    {
     "data": {
      "text/plain": [
       "<Axes: xlabel='Mes'>"
      ]
     },
     "execution_count": 41,
     "metadata": {},
     "output_type": "execute_result"
    },
    {
     "data": {
      "image/png": "[encoded data removed]",
      "text/plain": [
       "<Figure size 640x480 with 1 Axes>"
      ]
     },
     "metadata": {},
     "output_type": "display_data"
    }
   ],
   "source": [
    "#mostramos las ventas por mes, sucursal y categoria\n",
    "df['Mes'] = df['Fecha de venta'].dt.month\n",
    "df.groupby(['Mes', 'Sucursal'])['Total'].sum().unstack().plot(kind='bar')"
   ]
  },
  {
   "cell_type": "code",
   "execution_count": 42,
   "metadata": {},
   "outputs": [
    {
     "data": {
      "text/plain": [
       "<Axes: xlabel='Mes'>"
      ]
     },
     "execution_count": 42,
     "metadata": {},
     "output_type": "execute_result"
    },
    {
     "data": {
      "image/png": "[encoded data removed]",
      "text/plain": [
       "<Figure size 640x480 with 1 Axes>"
      ]
     },
     "metadata": {},
     "output_type": "display_data"
    }
   ],
   "source": [
    "#mostramos las ventas por mes y categoria\n",
    "df.groupby(['Mes', 'Categoría'])['Total'].sum().unstack().plot(kind='bar')\n"
   ]
  },
  {
   "cell_type": "code",
   "execution_count": 43,
   "metadata": {},
   "outputs": [
    {
     "data": {
      "text/plain": [
       "<Axes: xlabel='Categoría'>"
      ]
     },
     "execution_count": 43,
     "metadata": {},
     "output_type": "execute_result"
    },
    {
     "data": {
      "image/png": "[encoded data removed]",
      "text/plain": [
       "<Figure size 640x480 with 1 Axes>"
      ]
     },
     "metadata": {},
     "output_type": "display_data"
    }
   ],
   "source": [
    "#mostramos ventaspor categoria y sucural\n",
    "df.groupby(['Categoría', 'Sucursal'])['Total'].sum().unstack().plot(kind='bar')"
   ]
  },
  {
   "cell_type": "markdown",
   "metadata": {},
   "source": [
    "3. Visualización:\n",
    "    - **Gráficos de ventas por categoría:** Crear gráficos que muestren las ventas por categoría y por sucursal."
   ]
  },
  {
   "cell_type": "code",
   "execution_count": 44,
   "metadata": {},
   "outputs": [
    {
     "data": {
      "text/plain": [
       "<Axes: xlabel='Sucursal'>"
      ]
     },
     "execution_count": 44,
     "metadata": {},
     "output_type": "execute_result"
    },
    {
     "data": {
      "image/png": "[encoded data removed]",
      "text/plain": [
       "<Figure size 640x480 with 1 Axes>"
      ]
     },
     "metadata": {},
     "output_type": "display_data"
    }
   ],
   "source": [
    "#creamos un grafico que muestre las ventas por sucursal y categoria\n",
    "df.groupby(['Sucursal', 'Categoría'])['Total'].sum().unstack().plot(kind='bar')"
   ]
  },
  {
   "cell_type": "markdown",
   "metadata": {},
   "source": [
    "- **Tendencias temporales:** Graficar la evolución de las ventas a lo largo del año."
   ]
  },
  {
   "cell_type": "code",
   "execution_count": 45,
   "metadata": {},
   "outputs": [
    {
     "data": {
      "text/plain": [
       "<Axes: xlabel='Año,Mes'>"
      ]
     },
     "execution_count": 45,
     "metadata": {},
     "output_type": "execute_result"
    },
    {
     "data": {
      "image/png": "[encoded data removed]",
      "text/plain": [
       "<Figure size 640x480 with 1 Axes>"
      ]
     },
     "metadata": {},
     "output_type": "display_data"
    }
   ],
   "source": [
    "#mostramos la venta a lo largo del año  \n",
    "df['Año'] = df['Fecha de venta'].dt.year\n",
    "df.groupby(['Año', 'Mes'])['Total'].sum().plot(kind='bar')\n"
   ]
  },
  {
   "cell_type": "markdown",
   "metadata": {},
   "source": [
    "- **Métodos de pago:** Visualizar la distribución de los diferentes métodos de pago utilizados."
   ]
  },
  {
   "cell_type": "code",
   "execution_count": 46,
   "metadata": {},
   "outputs": [
    {
     "data": {
      "text/plain": [
       "<Axes: xlabel='Método de pago'>"
      ]
     },
     "execution_count": 46,
     "metadata": {},
     "output_type": "execute_result"
    },
    {
     "data": {
      "image/png": "[encoded data removed]",
      "text/plain": [
       "<Figure size 640x480 with 1 Axes>"
      ]
     },
     "metadata": {},
     "output_type": "display_data"
    }
   ],
   "source": [
    "#mostramos la distribucion de los metodos de pago\n",
    "df['Método de pago'].value_counts().plot(kind='bar')"
   ]
  },
  {
   "cell_type": "code",
   "execution_count": 47,
   "metadata": {},
   "outputs": [
    {
     "data": {
      "text/plain": [
       "<Axes: xlabel='Categoría', ylabel='Precio'>"
      ]
     },
     "execution_count": 47,
     "metadata": {},
     "output_type": "execute_result"
    },
    {
     "data": {
      "image/png": "[encoded data removed]",
      "text/plain": [
       "<Figure size 640x480 with 1 Axes>"
      ]
     },
     "metadata": {},
     "output_type": "display_data"
    }
   ],
   "source": [
    "sns.boxplot(x='Categoría', y='Precio', data=df)"
   ]
  }
 ],
 "metadata": {
  "kernelspec": {
   "display_name": "Python 3",
   "language": "python",
   "name": "python3"
  },
  "language_info": {
   "codemirror_mode": {
    "name": "ipython",
    "version": 3
   },
   "file_extension": ".py",
   "mimetype": "text/x-python",
   "name": "python",
   "nbconvert_exporter": "python",
   "pygments_lexer": "ipython3",
   "version": "3.12.3"
  }
 },
 "nbformat": 4,
 "nbformat_minor": 2
}
